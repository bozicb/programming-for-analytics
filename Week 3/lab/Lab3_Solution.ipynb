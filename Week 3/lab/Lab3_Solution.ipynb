{
 "cells": [
  {
   "cell_type": "markdown",
   "id": "1d67c667",
   "metadata": {},
   "source": [
    "# Lab 3: Solution – Student Data Processor"
   ]
  },
  {
   "cell_type": "code",
   "execution_count": 2,
   "id": "6a03eea0-b21a-446c-8af4-04c62872287a",
   "metadata": {},
   "outputs": [],
   "source": [
    "# Step 1: Create the list\n",
    "students = [\n",
    "    {\"name\": \"Alice\", \"age\": 20, \"grade\": 85},\n",
    "    {\"name\": \"Bob\", \"age\": 21, \"grade\": 76},\n",
    "    {\"name\": \"Charlie\", \"age\": 22, \"grade\": 91}\n",
    "]"
   ]
  },
  {
   "cell_type": "code",
   "execution_count": 25,
   "id": "6e02c510-9fb7-436a-8ec6-c9a3a1da847b",
   "metadata": {},
   "outputs": [
    {
     "name": "stdout",
     "output_type": "stream",
     "text": [
      "Average grade: 84.00\n"
     ]
    }
   ],
   "source": [
    "# Step 2: Average grade\n",
    "s = 0\n",
    "for student in students:\n",
    "    s += student['grade']\n",
    "avg = s/len(students)\n",
    "\n",
    "avg = sum(s['grade'] for s in students) / len(students)\n",
    "print(f\"Average grade: {avg:.2f}\")\n"
   ]
  },
  {
   "cell_type": "code",
   "execution_count": 14,
   "id": "a641af17",
   "metadata": {},
   "outputs": [
    {
     "name": "stdout",
     "output_type": "stream",
     "text": [
      "Above-average students:\n",
      "Alice\n",
      "Charlie\n"
     ]
    },
    {
     "data": {
      "text/plain": [
       "['Alice', 'Charlie']"
      ]
     },
     "execution_count": 14,
     "metadata": {},
     "output_type": "execute_result"
    }
   ],
   "source": [
    "# Step 3: Above-average students\n",
    "print(\"Above-average students:\")\n",
    "for s in students:\n",
    "    if s['grade'] > avg:\n",
    "        print(s['name'])\n",
    "        \n",
    "[s['name'] for s in students if s['grade'] > avg]"
   ]
  },
  {
   "cell_type": "code",
   "execution_count": 42,
   "id": "8992b2c9-3643-4377-9dec-1023869ae477",
   "metadata": {},
   "outputs": [
    {
     "name": "stdout",
     "output_type": "stream",
     "text": [
      "ALICE\n",
      "BOB\n",
      "CHARLIE\n"
     ]
    }
   ],
   "source": [
    "names = [s['name'] for s in students]\n",
    "for name in names:\n",
    "    print(name.upper())"
   ]
  },
  {
   "cell_type": "code",
   "execution_count": 45,
   "id": "70e9bbdb-44a7-4baf-bcfd-572ec4c44402",
   "metadata": {},
   "outputs": [
    {
     "name": "stdin",
     "output_type": "stream",
     "text": [
      "Enter student name to search:  ALICE\n"
     ]
    },
    {
     "name": "stdout",
     "output_type": "stream",
     "text": [
      "Alice's grade is 85\n"
     ]
    }
   ],
   "source": [
    "# Step 5: Search and error handling\n",
    "try:\n",
    "    name_input = input(\"Enter student name to search: \").strip().lower()\n",
    "    found = False\n",
    "    for s in students:\n",
    "        if s['name'].lower() == name_input:\n",
    "            print(f\"{s['name']}'s grade is {s['grade']}\")\n",
    "            found = True\n",
    "            break\n",
    "    if not found:\n",
    "        raise ValueError(\"Student not found\")\n",
    "except ValueError as e:\n",
    "    print(\"Error:\", e)"
   ]
  },
  {
   "cell_type": "code",
   "execution_count": 50,
   "id": "949246fc-bd6e-4fe5-b58a-f6341a30ca58",
   "metadata": {},
   "outputs": [
    {
     "name": "stdout",
     "output_type": "stream",
     "text": [
      "['An army that\\n', 'waits is soon\\n', 'an army at\\n', 'war with itself.']\n"
     ]
    }
   ],
   "source": [
    "with open('untitled.txt') as f:\n",
    "    lines = f.readlines()\n",
    "    print(lines)"
   ]
  },
  {
   "cell_type": "code",
   "execution_count": 51,
   "id": "7469eabb-4452-4182-8f36-7d9ad728475c",
   "metadata": {},
   "outputs": [
    {
     "name": "stdout",
     "output_type": "stream",
     "text": [
      "An army that\n",
      "\n",
      "waits is soon\n",
      "\n",
      "an army at\n",
      "\n",
      "war with itself.\n"
     ]
    }
   ],
   "source": [
    "for line in lines:\n",
    "    print(line)"
   ]
  },
  {
   "cell_type": "code",
   "execution_count": 48,
   "id": "1976cbd4-dcd5-48a9-9199-dd47cbb6d6f9",
   "metadata": {},
   "outputs": [
    {
     "name": "stdout",
     "output_type": "stream",
     "text": [
      "<_io.TextIOWrapper name='untitled.txt' mode='r' encoding='UTF-8'>\n"
     ]
    }
   ],
   "source": [
    "print(f)"
   ]
  },
  {
   "cell_type": "code",
   "execution_count": 49,
   "id": "cb59de90-8446-4d50-9fe1-8037f03c562c",
   "metadata": {},
   "outputs": [
    {
     "ename": "ValueError",
     "evalue": "I/O operation on closed file.",
     "output_type": "error",
     "traceback": [
      "\u001b[0;31m---------------------------------------------------------------------------\u001b[0m",
      "\u001b[0;31mValueError\u001b[0m                                Traceback (most recent call last)",
      "\u001b[0;32m/var/folders/b_/j0ltbnkn38x0sc9hrdbhdtfh0000gp/T/ipykernel_27366/3271805783.py\u001b[0m in \u001b[0;36m<module>\u001b[0;34m\u001b[0m\n\u001b[0;32m----> 1\u001b[0;31m \u001b[0;32mfor\u001b[0m \u001b[0mline\u001b[0m \u001b[0;32min\u001b[0m \u001b[0mf\u001b[0m\u001b[0;34m:\u001b[0m\u001b[0;34m\u001b[0m\u001b[0;34m\u001b[0m\u001b[0m\n\u001b[0m\u001b[1;32m      2\u001b[0m     \u001b[0mprint\u001b[0m\u001b[0;34m(\u001b[0m\u001b[0mline\u001b[0m\u001b[0;34m)\u001b[0m\u001b[0;34m\u001b[0m\u001b[0;34m\u001b[0m\u001b[0m\n",
      "\u001b[0;31mValueError\u001b[0m: I/O operation on closed file."
     ]
    }
   ],
   "source": [
    "for line in f:\n",
    "    print(line)"
   ]
  },
  {
   "cell_type": "code",
   "execution_count": null,
   "id": "be4d1253-fbce-4c2c-be55-35ccea4ef6dc",
   "metadata": {},
   "outputs": [],
   "source": []
  }
 ],
 "metadata": {
  "kernelspec": {
   "display_name": "Python 3 (ipykernel)",
   "language": "python",
   "name": "python3"
  },
  "language_info": {
   "codemirror_mode": {
    "name": "ipython",
    "version": 3
   },
   "file_extension": ".py",
   "mimetype": "text/x-python",
   "name": "python",
   "nbconvert_exporter": "python",
   "pygments_lexer": "ipython3",
   "version": "3.9.13"
  }
 },
 "nbformat": 4,
 "nbformat_minor": 5
}
