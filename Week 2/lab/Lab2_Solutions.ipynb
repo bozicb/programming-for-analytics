{
 "cells": [
  {
   "cell_type": "markdown",
   "id": "66be1cb7",
   "metadata": {},
   "source": [
    "# Lab 2: Control Structures and Functions - Solutions"
   ]
  },
  {
   "cell_type": "markdown",
   "id": "f7f1e9ab",
   "metadata": {},
   "source": [
    "## Task 1: Even or Odd Number Checker"
   ]
  },
  {
   "cell_type": "code",
   "execution_count": null,
   "id": "fdb4443b",
   "metadata": {},
   "outputs": [],
   "source": [
    "num = int(input(\"Enter a number: \"))\n",
    "if num % 2 == 0:\n",
    "    print(\"Even\")\n",
    "else:\n",
    "    print(\"Odd\")"
   ]
  },
  {
   "cell_type": "markdown",
   "id": "0de1c2ed",
   "metadata": {},
   "source": [
    "## Task 2: Multiples of 3"
   ]
  },
  {
   "cell_type": "code",
   "execution_count": null,
   "id": "589ae16a",
   "metadata": {},
   "outputs": [],
   "source": [
    "for i in range(1, 51):\n",
    "    if i % 3 == 0:\n",
    "        print(i)"
   ]
  },
  {
   "cell_type": "markdown",
   "id": "023a3eda",
   "metadata": {},
   "source": [
    "## Task 3: Password Strength Checker"
   ]
  },
  {
   "cell_type": "code",
   "execution_count": null,
   "id": "9398e892",
   "metadata": {},
   "outputs": [],
   "source": [
    "password = input(\"Enter a password: \")\n",
    "has_digit = any(char.isdigit() for char in password)\n",
    "has_special = any(char in '!@#$%&*' for char in password)\n",
    "if len(password) >= 8 and has_digit and has_special:\n",
    "    print(\"Strong password\")\n",
    "else:\n",
    "    print(\"Weak password\")"
   ]
  },
  {
   "cell_type": "markdown",
   "id": "f5e839da",
   "metadata": {},
   "source": [
    "## Task 4: FizzBuzz"
   ]
  },
  {
   "cell_type": "code",
   "execution_count": null,
   "id": "a4825819",
   "metadata": {},
   "outputs": [],
   "source": [
    "for i in range(1, 51):\n",
    "    if i % 3 == 0 and i % 5 == 0:\n",
    "        print(\"FizzBuzz\")\n",
    "    elif i % 3 == 0:\n",
    "        print(\"Fizz\")\n",
    "    elif i % 5 == 0:\n",
    "        print(\"Buzz\")\n",
    "    else:\n",
    "        print(i)"
   ]
  },
  {
   "cell_type": "markdown",
   "id": "6b8632cd",
   "metadata": {},
   "source": [
    "## Task 5: Temperature Conversion Table"
   ]
  },
  {
   "cell_type": "code",
   "execution_count": null,
   "id": "1644981b",
   "metadata": {},
   "outputs": [],
   "source": [
    "def convert_celsius_to_fahrenheit(start, end):\n",
    "    for c in range(start, end + 1):\n",
    "        f = (c * 9/5) + 32\n",
    "        print(f\"{c}°C = {f:.1f}°F\")\n",
    "\n",
    "convert_celsius_to_fahrenheit(0, 10)"
   ]
  },
  {
   "cell_type": "markdown",
   "id": "2698f7fa",
   "metadata": {},
   "source": [
    "## Task 6: Factorial with Input Validation"
   ]
  },
  {
   "cell_type": "code",
   "execution_count": null,
   "id": "8630ffec",
   "metadata": {},
   "outputs": [],
   "source": [
    "num = input(\"Enter a non-negative integer: \")\n",
    "if num.isdigit():\n",
    "    num = int(num)\n",
    "    result = 1\n",
    "    for i in range(1, num + 1):\n",
    "        result *= i\n",
    "    print(f\"Factorial of {num} is {result}\")\n",
    "else:\n",
    "    print(\"Invalid input\")"
   ]
  },
  {
   "cell_type": "markdown",
   "id": "6e5938cb",
   "metadata": {},
   "source": [
    "## Task 7: Prime Number Checker"
   ]
  },
  {
   "cell_type": "code",
   "execution_count": 9,
   "id": "e76fae53",
   "metadata": {},
   "outputs": [
    {
     "name": "stdin",
     "output_type": "stream",
     "text": [
      "Enter a number:  12\n"
     ]
    },
    {
     "name": "stdout",
     "output_type": "stream",
     "text": [
      "Not prime\n"
     ]
    }
   ],
   "source": [
    "n = int(input(\"Enter a number: \"))\n",
    "if n < 2:\n",
    "    print(\"Not prime\")\n",
    "else:\n",
    "    for i in range(2, int(n ** 0.5) + 1):\n",
    "        if n % i == 0:\n",
    "            print(\"Not prime\")\n",
    "            break\n",
    "    else:\n",
    "        print(\"Prime\")"
   ]
  },
  {
   "cell_type": "code",
   "execution_count": 77,
   "id": "d1c70371-3a2b-4ed9-9981-226303d95f3a",
   "metadata": {},
   "outputs": [],
   "source": [
    "students = {'Tom': 'A', 'Sam': 'B', 'Jack': 'C'}"
   ]
  },
  {
   "cell_type": "code",
   "execution_count": 79,
   "id": "c4e22e85-999a-4f22-b731-bbbdc2027436",
   "metadata": {},
   "outputs": [],
   "source": [
    "students['Tom'] = 'B'"
   ]
  },
  {
   "cell_type": "code",
   "execution_count": 80,
   "id": "7adf0afb-ad27-40df-a58e-a89248b6e565",
   "metadata": {},
   "outputs": [
    {
     "data": {
      "text/plain": [
       "'B'"
      ]
     },
     "execution_count": 80,
     "metadata": {},
     "output_type": "execute_result"
    }
   ],
   "source": [
    "students['Tom']"
   ]
  },
  {
   "cell_type": "code",
   "execution_count": 81,
   "id": "0aa1d652-4be0-4786-8a83-f9b71fbfb804",
   "metadata": {},
   "outputs": [],
   "source": [
    "students['Jerry'] = 'A'"
   ]
  },
  {
   "cell_type": "code",
   "execution_count": 83,
   "id": "e6e25d65-06ca-417b-b805-310c49dc634a",
   "metadata": {},
   "outputs": [],
   "source": [
    "del students['Tom']"
   ]
  },
  {
   "cell_type": "code",
   "execution_count": 84,
   "id": "8340c7e0-884d-4da0-b050-b05e905560e5",
   "metadata": {},
   "outputs": [
    {
     "data": {
      "text/plain": [
       "{'Sam': 'B', 'Jack': 'C', 'Jerry': 'A'}"
      ]
     },
     "execution_count": 84,
     "metadata": {},
     "output_type": "execute_result"
    }
   ],
   "source": [
    "students"
   ]
  },
  {
   "cell_type": "code",
   "execution_count": 87,
   "id": "bb6bea5f-90bd-4374-ba23-468cb289f679",
   "metadata": {},
   "outputs": [
    {
     "name": "stdout",
     "output_type": "stream",
     "text": [
      "Student: Sam, Grade: B\n",
      "Student: Jack, Grade: C\n",
      "Student: Jerry, Grade: A\n"
     ]
    }
   ],
   "source": [
    "for student, grade in students.items():\n",
    "    print(f\"Student: {student}, Grade: {grade}\")"
   ]
  },
  {
   "cell_type": "code",
   "execution_count": 92,
   "id": "3975b3e5-1e2a-4acc-8861-6fe983510f42",
   "metadata": {},
   "outputs": [
    {
     "data": {
      "text/plain": [
       "[0, 4, 16, 36, 64]"
      ]
     },
     "execution_count": 92,
     "metadata": {},
     "output_type": "execute_result"
    }
   ],
   "source": [
    "[x**2 for x in range(10) if x % 2 == 0]"
   ]
  },
  {
   "cell_type": "code",
   "execution_count": 93,
   "id": "113a6ca6-d685-448d-bca9-4ad682260988",
   "metadata": {},
   "outputs": [
    {
     "data": {
      "text/plain": [
       "['a', 'b', 'c']"
      ]
     },
     "execution_count": 93,
     "metadata": {},
     "output_type": "execute_result"
    }
   ],
   "source": [
    "[x.lower() for x in [\"A\", \"B\", \"C\"]]"
   ]
  },
  {
   "cell_type": "code",
   "execution_count": 100,
   "id": "9079cd0e-df83-42df-af09-1a97e1879d60",
   "metadata": {},
   "outputs": [
    {
     "data": {
      "text/plain": [
       "'WELCOME, ALICE'"
      ]
     },
     "execution_count": 100,
     "metadata": {},
     "output_type": "execute_result"
    }
   ],
   "source": [
    "raw_name = \"  Alice\\n\"\n",
    "raw_name = raw_name.strip().upper()\n",
    "\"WELCOME, \" + raw_name"
   ]
  },
  {
   "cell_type": "code",
   "execution_count": 181,
   "id": "84b6188e-063f-44f4-b475-f547666600b6",
   "metadata": {},
   "outputs": [
    {
     "name": "stdin",
     "output_type": "stream",
     "text": [
      "First number:  4\n",
      "Second number:  4\n"
     ]
    },
    {
     "name": "stdout",
     "output_type": "stream",
     "text": [
      "1.0\n",
      "See you later!\n"
     ]
    }
   ],
   "source": [
    "try:\n",
    "    a = int(input(\"First number: \"))\n",
    "    b = int(input(\"Second number: \"))\n",
    "    print(a/b)\n",
    "except ValueError:\n",
    "    print(\"not an integer\")\n",
    "except ZeroDivisionError:\n",
    "    print(\"division by zero\")\n",
    "finally:\n",
    "    print(\"See you later!\")\n"
   ]
  },
  {
   "cell_type": "code",
   "execution_count": 106,
   "id": "9003abad-45ef-4994-a29a-d9b68f291174",
   "metadata": {},
   "outputs": [],
   "source": [
    "l = [4, 6, 1, 3, 9]"
   ]
  },
  {
   "cell_type": "code",
   "execution_count": 108,
   "id": "72ae2b05-db98-4f00-9a33-7a835c634e46",
   "metadata": {},
   "outputs": [],
   "source": [
    "l.append(2)"
   ]
  },
  {
   "cell_type": "code",
   "execution_count": 112,
   "id": "aec17ef5-2a37-4df6-aeb5-73f3d7f9a355",
   "metadata": {},
   "outputs": [
    {
     "data": {
      "text/plain": [
       "1"
      ]
     },
     "execution_count": 112,
     "metadata": {},
     "output_type": "execute_result"
    }
   ],
   "source": [
    "l.pop(1)"
   ]
  },
  {
   "cell_type": "code",
   "execution_count": 114,
   "id": "c30f3760-bd27-4174-b1cf-3f2aa079ee1f",
   "metadata": {},
   "outputs": [],
   "source": [
    "l.sort()"
   ]
  },
  {
   "cell_type": "code",
   "execution_count": 123,
   "id": "d9892afe-0924-45d2-90a3-86d7063b5e08",
   "metadata": {},
   "outputs": [],
   "source": [
    "t = (\"Felisin\", 28, \"Unta\")"
   ]
  },
  {
   "cell_type": "code",
   "execution_count": 124,
   "id": "67c142c7-1ff5-47fc-98fd-e1b2a2c93355",
   "metadata": {},
   "outputs": [
    {
     "data": {
      "text/plain": [
       "('Felisin', 28, 'Unta')"
      ]
     },
     "execution_count": 124,
     "metadata": {},
     "output_type": "execute_result"
    }
   ],
   "source": [
    "t"
   ]
  },
  {
   "cell_type": "code",
   "execution_count": 125,
   "id": "b795a295-88f7-442c-9f47-dfde2b49f971",
   "metadata": {},
   "outputs": [],
   "source": [
    "name, age, city = t"
   ]
  },
  {
   "cell_type": "code",
   "execution_count": 128,
   "id": "84a05fc4-8f6a-4005-90be-e1a8233f51fb",
   "metadata": {},
   "outputs": [
    {
     "name": "stdout",
     "output_type": "stream",
     "text": [
      "Name: Felisin, Age: 28, City: Unta\n"
     ]
    }
   ],
   "source": [
    "print(f\"Name: {name}, Age: {age}, City: {city}\")"
   ]
  },
  {
   "cell_type": "code",
   "execution_count": 145,
   "id": "c155753e-ec67-4d16-b605-17a4cd3baa77",
   "metadata": {},
   "outputs": [],
   "source": [
    "s = {123, 565, 334}"
   ]
  },
  {
   "cell_type": "code",
   "execution_count": 149,
   "id": "2aaff81c-95cd-49a9-bec1-0db5d787fdfd",
   "metadata": {},
   "outputs": [],
   "source": [
    "s.remove(456)"
   ]
  },
  {
   "cell_type": "code",
   "execution_count": 152,
   "id": "74e48351-1a6c-419b-a3e2-9eb6d48cb500",
   "metadata": {},
   "outputs": [
    {
     "data": {
      "text/plain": [
       "False"
      ]
     },
     "execution_count": 152,
     "metadata": {},
     "output_type": "execute_result"
    }
   ],
   "source": [
    "365 in s"
   ]
  },
  {
   "cell_type": "code",
   "execution_count": 153,
   "id": "e888e86b-5d90-4455-bbf4-6634db875470",
   "metadata": {},
   "outputs": [],
   "source": [
    "students = {'Stormy' : 'A', 'Fiddler': 'B', 'Mallet': 'C'}"
   ]
  },
  {
   "cell_type": "code",
   "execution_count": 158,
   "id": "2a7114fd-63a3-40a5-b56b-8e95e87dbe83",
   "metadata": {},
   "outputs": [],
   "source": [
    "students['Trotts'] = 'A'"
   ]
  },
  {
   "cell_type": "code",
   "execution_count": 160,
   "id": "b7735e0d-c025-4020-b93b-9a13d05bd4e8",
   "metadata": {},
   "outputs": [],
   "source": [
    "del students['Trotts']"
   ]
  },
  {
   "cell_type": "code",
   "execution_count": 161,
   "id": "8c6073aa-b727-4559-9477-1b2134386a92",
   "metadata": {},
   "outputs": [
    {
     "data": {
      "text/plain": [
       "{'Stormy': 'B', 'Fiddler': 'B', 'Mallet': 'C'}"
      ]
     },
     "execution_count": 161,
     "metadata": {},
     "output_type": "execute_result"
    }
   ],
   "source": [
    "students"
   ]
  },
  {
   "cell_type": "code",
   "execution_count": 163,
   "id": "5e79ac8b-f515-4b69-8bf7-e28f4dba44f9",
   "metadata": {},
   "outputs": [
    {
     "name": "stdout",
     "output_type": "stream",
     "text": [
      "Name: Stormy, Grade: B\n",
      "Name: Fiddler, Grade: B\n",
      "Name: Mallet, Grade: C\n"
     ]
    }
   ],
   "source": [
    "for name, grade in students.items():\n",
    "    print(f\"Name: {name}, Grade: {grade}\")"
   ]
  },
  {
   "cell_type": "code",
   "execution_count": 166,
   "id": "4dba7e9b-77e1-4f1a-bb93-2c4cea7cb14d",
   "metadata": {},
   "outputs": [
    {
     "data": {
      "text/plain": [
       "[0, 4, 16, 36, 64, 100]"
      ]
     },
     "execution_count": 166,
     "metadata": {},
     "output_type": "execute_result"
    }
   ],
   "source": [
    "[x**2 for x in range(11) if x % 2 == 0]"
   ]
  },
  {
   "cell_type": "code",
   "execution_count": 168,
   "id": "80a74f85-4c21-4b39-90ef-0fe03bf997e8",
   "metadata": {},
   "outputs": [
    {
     "data": {
      "text/plain": [
       "['a', 'b', 'c']"
      ]
     },
     "execution_count": 168,
     "metadata": {},
     "output_type": "execute_result"
    }
   ],
   "source": [
    "[s.lower() for s in [\"A\", \"B\", \"C\"]]"
   ]
  },
  {
   "cell_type": "code",
   "execution_count": 170,
   "id": "3a413b08-f996-44f7-b350-109b57df23fc",
   "metadata": {},
   "outputs": [],
   "source": [
    "raw_name = \"   Alice\\n\""
   ]
  },
  {
   "cell_type": "code",
   "execution_count": 175,
   "id": "11bae366-4a7e-4668-9845-06756bd2c43c",
   "metadata": {},
   "outputs": [
    {
     "data": {
      "text/plain": [
       "'WELCOME, ALICE'"
      ]
     },
     "execution_count": 175,
     "metadata": {},
     "output_type": "execute_result"
    }
   ],
   "source": [
    "\"welcome, \".upper() + raw_name.strip().upper()"
   ]
  },
  {
   "cell_type": "code",
   "execution_count": 193,
   "id": "a686c69a-734f-4541-b1d1-952378975b3f",
   "metadata": {},
   "outputs": [
    {
     "name": "stdin",
     "output_type": "stream",
     "text": [
      "First number:  4.5\n",
      "Second number:  6.5\n"
     ]
    },
    {
     "name": "stdout",
     "output_type": "stream",
     "text": [
      "0.6923076923076923\n",
      "Bye\n"
     ]
    }
   ],
   "source": [
    "try:\n",
    "    a = float(input(\"First number: \"))\n",
    "    b = float(input(\"Second number: \"))\n",
    "    print(a/b)\n",
    "except ValueError:\n",
    "    print(\"This is not a number.\")\n",
    "except ZeroDivisionError:\n",
    "    print(\"Division by zero not allowed.\")\n",
    "finally:\n",
    "    print(\"Bye\")"
   ]
  },
  {
   "cell_type": "code",
   "execution_count": 194,
   "id": "88e76a18-f619-46e7-a77f-e5b41d56883b",
   "metadata": {},
   "outputs": [
    {
     "data": {
      "text/plain": [
       "4"
      ]
     },
     "execution_count": 194,
     "metadata": {},
     "output_type": "execute_result"
    }
   ],
   "source": [
    "int(4.5)"
   ]
  },
  {
   "cell_type": "code",
   "execution_count": null,
   "id": "1c12caad-ed7c-4cf8-baeb-99fef1739d9b",
   "metadata": {},
   "outputs": [],
   "source": []
  }
 ],
 "metadata": {
  "kernelspec": {
   "display_name": "Python 3 (ipykernel)",
   "language": "python",
   "name": "python3"
  },
  "language_info": {
   "codemirror_mode": {
    "name": "ipython",
    "version": 3
   },
   "file_extension": ".py",
   "mimetype": "text/x-python",
   "name": "python",
   "nbconvert_exporter": "python",
   "pygments_lexer": "ipython3",
   "version": "3.9.13"
  }
 },
 "nbformat": 4,
 "nbformat_minor": 5
}
