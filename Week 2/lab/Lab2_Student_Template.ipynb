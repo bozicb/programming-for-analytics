{
 "cells": [
  {
   "cell_type": "markdown",
   "id": "b3e6329e",
   "metadata": {},
   "source": [
    "# Lab 2: Control Structures and Functions\n",
    "AYTS5001 - Programming for Analytics"
   ]
  },
  {
   "cell_type": "markdown",
   "id": "a147fd29",
   "metadata": {},
   "source": [
    "## Task 1: Even or Odd Number Checker"
   ]
  },
  {
   "cell_type": "code",
   "execution_count": null,
   "id": "3bf2868b",
   "metadata": {},
   "outputs": [],
   "source": [
    "# Your code here\n"
   ]
  },
  {
   "cell_type": "markdown",
   "id": "06cc0422",
   "metadata": {},
   "source": [
    "## Task 2: Multiples of 3"
   ]
  },
  {
   "cell_type": "code",
   "execution_count": null,
   "id": "79828c1c",
   "metadata": {},
   "outputs": [],
   "source": [
    "# Your code here\n"
   ]
  },
  {
   "cell_type": "markdown",
   "id": "6430dd4f",
   "metadata": {},
   "source": [
    "## Task 3: Password Strength Checker"
   ]
  },
  {
   "cell_type": "code",
   "execution_count": null,
   "id": "b7a00267",
   "metadata": {},
   "outputs": [],
   "source": [
    "# Your code here\n"
   ]
  },
  {
   "cell_type": "markdown",
   "id": "ff49a53b",
   "metadata": {},
   "source": [
    "## Task 4: FizzBuzz"
   ]
  },
  {
   "cell_type": "code",
   "execution_count": null,
   "id": "c43f838c",
   "metadata": {},
   "outputs": [],
   "source": [
    "# Your code here\n"
   ]
  },
  {
   "cell_type": "markdown",
   "id": "a9f5792b",
   "metadata": {},
   "source": [
    "## Task 5: Temperature Conversion Table"
   ]
  },
  {
   "cell_type": "code",
   "execution_count": null,
   "id": "b4dfb707",
   "metadata": {},
   "outputs": [],
   "source": [
    "# Your code here\n"
   ]
  },
  {
   "cell_type": "markdown",
   "id": "16e39932",
   "metadata": {},
   "source": [
    "## Task 6: Factorial with Input Validation"
   ]
  },
  {
   "cell_type": "code",
   "execution_count": null,
   "id": "9b8ce5e9",
   "metadata": {},
   "outputs": [],
   "source": [
    "# Your code here\n"
   ]
  },
  {
   "cell_type": "markdown",
   "id": "eea49219",
   "metadata": {},
   "source": [
    "## Task 7: Prime Number Checker"
   ]
  },
  {
   "cell_type": "code",
   "execution_count": null,
   "id": "46daff6a",
   "metadata": {},
   "outputs": [],
   "source": [
    "# Your code here\n"
   ]
  }
 ],
 "metadata": {
  "kernelspec": {
   "display_name": "Python 3 (ipykernel)",
   "language": "python",
   "name": "python3"
  },
  "language_info": {
   "codemirror_mode": {
    "name": "ipython",
    "version": 3
   },
   "file_extension": ".py",
   "mimetype": "text/x-python",
   "name": "python",
   "nbconvert_exporter": "python",
   "pygments_lexer": "ipython3",
   "version": "3.9.13"
  }
 },
 "nbformat": 4,
 "nbformat_minor": 5
}
