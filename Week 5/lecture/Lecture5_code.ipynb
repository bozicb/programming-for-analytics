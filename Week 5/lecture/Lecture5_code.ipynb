{
 "cells": [
  {
   "cell_type": "code",
   "execution_count": 1,
   "id": "0e462156-4606-4ada-b01b-b9c4eb6d26dd",
   "metadata": {},
   "outputs": [],
   "source": [
    "import requests"
   ]
  },
  {
   "cell_type": "code",
   "execution_count": 37,
   "id": "e39982d5-336c-4dc0-87df-1e816ea295bf",
   "metadata": {},
   "outputs": [],
   "source": [
    "url = \"https://api.agify.io\""
   ]
  },
  {
   "cell_type": "code",
   "execution_count": 38,
   "id": "747c927b-af7d-4ccd-af27-4af0c9cb22cd",
   "metadata": {},
   "outputs": [],
   "source": [
    "response = requests.get(url, params={'name': 'Kalam'})"
   ]
  },
  {
   "cell_type": "code",
   "execution_count": 39,
   "id": "03fe0d2a-2e21-485b-ae02-e0e10cfcff7e",
   "metadata": {},
   "outputs": [
    {
     "data": {
      "text/plain": [
       "{'count': 128, 'name': 'Kalam', 'age': 47}"
      ]
     },
     "execution_count": 39,
     "metadata": {},
     "output_type": "execute_result"
    }
   ],
   "source": [
    "response.json()"
   ]
  },
  {
   "cell_type": "code",
   "execution_count": 24,
   "id": "a2d30932-a8d7-4c50-9a65-8a0e1b00d363",
   "metadata": {},
   "outputs": [],
   "source": [
    "url = \"https://api.spotify.com/v1/artists/4Z8W4fKeB5YxbusRsdQVPb\"\n",
    "response = requests.get(url)"
   ]
  },
  {
   "cell_type": "code",
   "execution_count": 26,
   "id": "11211217-69f1-4370-9346-3b6eb79ede67",
   "metadata": {},
   "outputs": [
    {
     "data": {
      "text/plain": [
       "<Response [401]>"
      ]
     },
     "execution_count": 26,
     "metadata": {},
     "output_type": "execute_result"
    }
   ],
   "source": [
    "response"
   ]
  },
  {
   "cell_type": "code",
   "execution_count": 33,
   "id": "00be4282-fd84-464f-b05b-aedca97d1f67",
   "metadata": {},
   "outputs": [],
   "source": [
    "url = \"https://catfact.ninja/fact\"\n",
    "response = requests.get(url)"
   ]
  },
  {
   "cell_type": "code",
   "execution_count": 34,
   "id": "dfd0ef6a-e39e-4a23-b030-7b0b12050e48",
   "metadata": {},
   "outputs": [
    {
     "data": {
      "text/plain": [
       "'The first cat show was organized in 1871 in London. Cat shows later became a worldwide craze.'"
      ]
     },
     "execution_count": 34,
     "metadata": {},
     "output_type": "execute_result"
    }
   ],
   "source": [
    "response.json()['fact']"
   ]
  },
  {
   "cell_type": "code",
   "execution_count": 43,
   "id": "0ae774b4-8038-41c1-9520-2df2e3be541f",
   "metadata": {},
   "outputs": [
    {
     "name": "stdin",
     "output_type": "stream",
     "text": [
      " Silvia\n"
     ]
    },
    {
     "name": "stdout",
     "output_type": "stream",
     "text": [
      "Your predicted age is 52.\n"
     ]
    }
   ],
   "source": [
    "name = input()\n",
    "url = \"https://api.agify.io\"\n",
    "\n",
    "response = requests.get(url, params={'name': name})\n",
    "print(f\"Your predicted age is {response.json()['age']}.\")"
   ]
  },
  {
   "cell_type": "code",
   "execution_count": 74,
   "id": "e9a3255b-7f20-4942-9285-68893efeca3b",
   "metadata": {},
   "outputs": [
    {
     "name": "stdout",
     "output_type": "stream",
     "text": [
      "✅ Success: {'count': 0, 'name': 'Tavore', 'age': None}\n"
     ]
    }
   ],
   "source": [
    "try:\n",
    "    response = requests.get(\"https://api.agify.io?name=Tavore\", timeout=5)\n",
    "    response.raise_for_status()  # Raises HTTPError for bad responses (4xx, 5xx)\n",
    "    data = response.json()\n",
    "    print(\"✅ Success:\", data)\n",
    "\n",
    "except requests.exceptions.Timeout:\n",
    "    print(\"❌ The request timed out.\")\n",
    "except requests.exceptions.RequestException as e:\n",
    "    print(\"❌ Request failed:\", e)"
   ]
  },
  {
   "cell_type": "code",
   "execution_count": 49,
   "id": "9e12d185-1c30-4531-9da0-49a13da2af3b",
   "metadata": {},
   "outputs": [
    {
     "data": {
      "text/plain": [
       "[{'country_id': 'TN', 'probability': 0.1461445978484182},\n",
       " {'country_id': 'DZ', 'probability': 0.11835484379190123},\n",
       " {'country_id': 'MA', 'probability': 0.09348691513008661},\n",
       " {'country_id': 'FR', 'probability': 0.037356861423309254},\n",
       " {'country_id': 'BE', 'probability': 0.022217852165779955}]"
      ]
     },
     "execution_count": 49,
     "metadata": {},
     "output_type": "execute_result"
    }
   ],
   "source": [
    "url = \"https://api.nationalize.io\"\n",
    "\n",
    "response = requests.get(url, params={'name': 'Ben'})\n",
    "countries = response.json()['country']\n",
    "countries"
   ]
  },
  {
   "cell_type": "code",
   "execution_count": 51,
   "id": "4fd621e2-20c9-4602-89d1-76addeb148e9",
   "metadata": {},
   "outputs": [
    {
     "name": "stdout",
     "output_type": "stream",
     "text": [
      "There's a 14.61% chance that Ben is from TN.\n",
      "There's a 11.84% chance that Ben is from DZ.\n",
      "There's a 9.35% chance that Ben is from MA.\n",
      "There's a 3.74% chance that Ben is from FR.\n",
      "There's a 2.22% chance that Ben is from BE.\n"
     ]
    }
   ],
   "source": [
    "for country in countries:\n",
    "    print(f\"There's a {country['probability']*100:.2f}% chance that Ben is from {country['country_id']}.\")"
   ]
  },
  {
   "cell_type": "code",
   "execution_count": 56,
   "id": "1b23cb12-63cf-436b-aac6-8ad0d255aa81",
   "metadata": {},
   "outputs": [
    {
     "data": {
      "text/plain": [
       "'[\\n  {\\n    \"country_id\": \"TN\",\\n    \"probability\": 0.1461445978484182\\n  },\\n  {\\n    \"country_id\": \"DZ\",\\n    \"probability\": 0.11835484379190123\\n  },\\n  {\\n    \"country_id\": \"MA\",\\n    \"probability\": 0.09348691513008661\\n  },\\n  {\\n    \"country_id\": \"FR\",\\n    \"probability\": 0.037356861423309254\\n  },\\n  {\\n    \"country_id\": \"BE\",\\n    \"probability\": 0.022217852165779955\\n  }\\n]'"
      ]
     },
     "execution_count": 56,
     "metadata": {},
     "output_type": "execute_result"
    }
   ],
   "source": [
    "import json\n",
    "json.dumps(countries, indent=2)"
   ]
  },
  {
   "cell_type": "code",
   "execution_count": 68,
   "id": "78febd42-6dac-4fd8-925b-8f97c0381a0a",
   "metadata": {},
   "outputs": [
    {
     "name": "stdout",
     "output_type": "stream",
     "text": [
      "Tyrion Lannister is also know as:\n",
      "- The Imp\n",
      "- Halfman\n",
      "- The boyman\n",
      "- Giant of Lannister\n",
      "- Lord Tywin's Doom\n",
      "- Lord Tywin's Bane\n",
      "- Yollo\n",
      "- Hugor Hill\n",
      "- No-Nose\n",
      "- Freak\n",
      "- Dwarf\n"
     ]
    }
   ],
   "source": [
    "url = \"https://anapioficeandfire.com/api/characters\"\n",
    "response = requests.get(url, params={'name': 'Tyrion Lannister'})\n",
    "print(\"Tyrion Lannister is also know as:\")\n",
    "for alias in response.json()[0]['aliases']:\n",
    "    print(\"- \"+alias)"
   ]
  },
  {
   "cell_type": "code",
   "execution_count": 71,
   "id": "b37be94a-bcdc-4fa2-81df-3c2233fc9817",
   "metadata": {},
   "outputs": [],
   "source": [
    "name = \"Whiskeyjack\"\n",
    "with open(name+\".json\", \"w\") as f:\n",
    "    response = requests.get(\"https://api.agify.io\", params={'name': name})\n",
    "    json.dump(response.json(), f)"
   ]
  },
  {
   "cell_type": "code",
   "execution_count": 73,
   "id": "a120539d-65fb-4267-99f0-29e859a74e13",
   "metadata": {},
   "outputs": [
    {
     "data": {
      "text/plain": [
       "{'count': 28, 'name': 'Whiskeyjack', 'country': [{'country_id': 'CA', 'probability': 0.7142857142857144}]}"
      ]
     },
     "execution_count": 73,
     "metadata": {},
     "output_type": "execute_result"
    }
   ],
   "source": [
    "param = {'name': name}\n",
    "response1 = requests.get(\"https://api.agify.io\", param)\n",
    "response2 = requests.get(\"https://api.nationalize.io\", param)\n",
    "response1.json()\n",
    "response2.json()\n",
    "print(\"Whiskeyjack is {} and from {}.\")"
   ]
  },
  {
   "cell_type": "code",
   "execution_count": 79,
   "id": "d51ba4d5-2d82-49b4-affe-a8683a918426",
   "metadata": {},
   "outputs": [
    {
     "ename": "JSONDecodeError",
     "evalue": "Expecting value: line 1 column 1 (char 0)",
     "output_type": "error",
     "traceback": [
      "\u001b[0;31m---------------------------------------------------------------------------\u001b[0m",
      "\u001b[0;31mJSONDecodeError\u001b[0m                           Traceback (most recent call last)",
      "\u001b[0;32m~/opt/anaconda3/lib/python3.9/site-packages/requests/models.py\u001b[0m in \u001b[0;36mjson\u001b[0;34m(self, **kwargs)\u001b[0m\n\u001b[1;32m    970\u001b[0m         \u001b[0;32mtry\u001b[0m\u001b[0;34m:\u001b[0m\u001b[0;34m\u001b[0m\u001b[0;34m\u001b[0m\u001b[0m\n\u001b[0;32m--> 971\u001b[0;31m             \u001b[0;32mreturn\u001b[0m \u001b[0mcomplexjson\u001b[0m\u001b[0;34m.\u001b[0m\u001b[0mloads\u001b[0m\u001b[0;34m(\u001b[0m\u001b[0mself\u001b[0m\u001b[0;34m.\u001b[0m\u001b[0mtext\u001b[0m\u001b[0;34m,\u001b[0m \u001b[0;34m**\u001b[0m\u001b[0mkwargs\u001b[0m\u001b[0;34m)\u001b[0m\u001b[0;34m\u001b[0m\u001b[0;34m\u001b[0m\u001b[0m\n\u001b[0m\u001b[1;32m    972\u001b[0m         \u001b[0;32mexcept\u001b[0m \u001b[0mJSONDecodeError\u001b[0m \u001b[0;32mas\u001b[0m \u001b[0me\u001b[0m\u001b[0;34m:\u001b[0m\u001b[0;34m\u001b[0m\u001b[0;34m\u001b[0m\u001b[0m\n",
      "\u001b[0;32m~/opt/anaconda3/lib/python3.9/json/__init__.py\u001b[0m in \u001b[0;36mloads\u001b[0;34m(s, cls, object_hook, parse_float, parse_int, parse_constant, object_pairs_hook, **kw)\u001b[0m\n\u001b[1;32m    345\u001b[0m             parse_constant is None and object_pairs_hook is None and not kw):\n\u001b[0;32m--> 346\u001b[0;31m         \u001b[0;32mreturn\u001b[0m \u001b[0m_default_decoder\u001b[0m\u001b[0;34m.\u001b[0m\u001b[0mdecode\u001b[0m\u001b[0;34m(\u001b[0m\u001b[0ms\u001b[0m\u001b[0;34m)\u001b[0m\u001b[0;34m\u001b[0m\u001b[0;34m\u001b[0m\u001b[0m\n\u001b[0m\u001b[1;32m    347\u001b[0m     \u001b[0;32mif\u001b[0m \u001b[0mcls\u001b[0m \u001b[0;32mis\u001b[0m \u001b[0;32mNone\u001b[0m\u001b[0;34m:\u001b[0m\u001b[0;34m\u001b[0m\u001b[0;34m\u001b[0m\u001b[0m\n",
      "\u001b[0;32m~/opt/anaconda3/lib/python3.9/json/decoder.py\u001b[0m in \u001b[0;36mdecode\u001b[0;34m(self, s, _w)\u001b[0m\n\u001b[1;32m    336\u001b[0m         \"\"\"\n\u001b[0;32m--> 337\u001b[0;31m         \u001b[0mobj\u001b[0m\u001b[0;34m,\u001b[0m \u001b[0mend\u001b[0m \u001b[0;34m=\u001b[0m \u001b[0mself\u001b[0m\u001b[0;34m.\u001b[0m\u001b[0mraw_decode\u001b[0m\u001b[0;34m(\u001b[0m\u001b[0ms\u001b[0m\u001b[0;34m,\u001b[0m \u001b[0midx\u001b[0m\u001b[0;34m=\u001b[0m\u001b[0m_w\u001b[0m\u001b[0;34m(\u001b[0m\u001b[0ms\u001b[0m\u001b[0;34m,\u001b[0m \u001b[0;36m0\u001b[0m\u001b[0;34m)\u001b[0m\u001b[0;34m.\u001b[0m\u001b[0mend\u001b[0m\u001b[0;34m(\u001b[0m\u001b[0;34m)\u001b[0m\u001b[0;34m)\u001b[0m\u001b[0;34m\u001b[0m\u001b[0;34m\u001b[0m\u001b[0m\n\u001b[0m\u001b[1;32m    338\u001b[0m         \u001b[0mend\u001b[0m \u001b[0;34m=\u001b[0m \u001b[0m_w\u001b[0m\u001b[0;34m(\u001b[0m\u001b[0ms\u001b[0m\u001b[0;34m,\u001b[0m \u001b[0mend\u001b[0m\u001b[0;34m)\u001b[0m\u001b[0;34m.\u001b[0m\u001b[0mend\u001b[0m\u001b[0;34m(\u001b[0m\u001b[0;34m)\u001b[0m\u001b[0;34m\u001b[0m\u001b[0;34m\u001b[0m\u001b[0m\n",
      "\u001b[0;32m~/opt/anaconda3/lib/python3.9/json/decoder.py\u001b[0m in \u001b[0;36mraw_decode\u001b[0;34m(self, s, idx)\u001b[0m\n\u001b[1;32m    354\u001b[0m         \u001b[0;32mexcept\u001b[0m \u001b[0mStopIteration\u001b[0m \u001b[0;32mas\u001b[0m \u001b[0merr\u001b[0m\u001b[0;34m:\u001b[0m\u001b[0;34m\u001b[0m\u001b[0;34m\u001b[0m\u001b[0m\n\u001b[0;32m--> 355\u001b[0;31m             \u001b[0;32mraise\u001b[0m \u001b[0mJSONDecodeError\u001b[0m\u001b[0;34m(\u001b[0m\u001b[0;34m\"Expecting value\"\u001b[0m\u001b[0;34m,\u001b[0m \u001b[0ms\u001b[0m\u001b[0;34m,\u001b[0m \u001b[0merr\u001b[0m\u001b[0;34m.\u001b[0m\u001b[0mvalue\u001b[0m\u001b[0;34m)\u001b[0m \u001b[0;32mfrom\u001b[0m \u001b[0;32mNone\u001b[0m\u001b[0;34m\u001b[0m\u001b[0;34m\u001b[0m\u001b[0m\n\u001b[0m\u001b[1;32m    356\u001b[0m         \u001b[0;32mreturn\u001b[0m \u001b[0mobj\u001b[0m\u001b[0;34m,\u001b[0m \u001b[0mend\u001b[0m\u001b[0;34m\u001b[0m\u001b[0;34m\u001b[0m\u001b[0m\n",
      "\u001b[0;31mJSONDecodeError\u001b[0m: Expecting value: line 1 column 1 (char 0)",
      "\nDuring handling of the above exception, another exception occurred:\n",
      "\u001b[0;31mJSONDecodeError\u001b[0m                           Traceback (most recent call last)",
      "\u001b[0;32m/var/folders/b_/j0ltbnkn38x0sc9hrdbhdtfh0000gp/T/ipykernel_53518/1970865566.py\u001b[0m in \u001b[0;36m<module>\u001b[0;34m\u001b[0m\n\u001b[1;32m      1\u001b[0m \u001b[0murl\u001b[0m \u001b[0;34m=\u001b[0m \u001b[0;34m\"https://api.first.org/v1/get-countries?q=AZ\"\u001b[0m\u001b[0;34m\u001b[0m\u001b[0;34m\u001b[0m\u001b[0m\n\u001b[1;32m      2\u001b[0m \u001b[0mresponse\u001b[0m \u001b[0;34m=\u001b[0m \u001b[0mrequests\u001b[0m\u001b[0;34m.\u001b[0m\u001b[0mget\u001b[0m\u001b[0;34m(\u001b[0m\u001b[0murl\u001b[0m\u001b[0;34m)\u001b[0m\u001b[0;34m\u001b[0m\u001b[0;34m\u001b[0m\u001b[0m\n\u001b[0;32m----> 3\u001b[0;31m \u001b[0mresponse\u001b[0m\u001b[0;34m.\u001b[0m\u001b[0mjson\u001b[0m\u001b[0;34m(\u001b[0m\u001b[0;34m)\u001b[0m\u001b[0;34m\u001b[0m\u001b[0;34m\u001b[0m\u001b[0m\n\u001b[0m",
      "\u001b[0;32m~/opt/anaconda3/lib/python3.9/site-packages/requests/models.py\u001b[0m in \u001b[0;36mjson\u001b[0;34m(self, **kwargs)\u001b[0m\n\u001b[1;32m    973\u001b[0m             \u001b[0;31m# Catch JSON-related errors and raise as requests.JSONDecodeError\u001b[0m\u001b[0;34m\u001b[0m\u001b[0;34m\u001b[0m\u001b[0m\n\u001b[1;32m    974\u001b[0m             \u001b[0;31m# This aliases json.JSONDecodeError and simplejson.JSONDecodeError\u001b[0m\u001b[0;34m\u001b[0m\u001b[0;34m\u001b[0m\u001b[0m\n\u001b[0;32m--> 975\u001b[0;31m             \u001b[0;32mraise\u001b[0m \u001b[0mRequestsJSONDecodeError\u001b[0m\u001b[0;34m(\u001b[0m\u001b[0me\u001b[0m\u001b[0;34m.\u001b[0m\u001b[0mmsg\u001b[0m\u001b[0;34m,\u001b[0m \u001b[0me\u001b[0m\u001b[0;34m.\u001b[0m\u001b[0mdoc\u001b[0m\u001b[0;34m,\u001b[0m \u001b[0me\u001b[0m\u001b[0;34m.\u001b[0m\u001b[0mpos\u001b[0m\u001b[0;34m)\u001b[0m\u001b[0;34m\u001b[0m\u001b[0;34m\u001b[0m\u001b[0m\n\u001b[0m\u001b[1;32m    976\u001b[0m \u001b[0;34m\u001b[0m\u001b[0m\n\u001b[1;32m    977\u001b[0m     \u001b[0;34m@\u001b[0m\u001b[0mproperty\u001b[0m\u001b[0;34m\u001b[0m\u001b[0;34m\u001b[0m\u001b[0m\n",
      "\u001b[0;31mJSONDecodeError\u001b[0m: Expecting value: line 1 column 1 (char 0)"
     ]
    }
   ],
   "source": [
    "url = \"https://api.first.org/v1/get-countries?q=AZ\"\n",
    "response = requests.get(url)\n",
    "response.json()"
   ]
  }
 ],
 "metadata": {
  "kernelspec": {
   "display_name": "Python 3 (ipykernel)",
   "language": "python",
   "name": "python3"
  },
  "language_info": {
   "codemirror_mode": {
    "name": "ipython",
    "version": 3
   },
   "file_extension": ".py",
   "mimetype": "text/x-python",
   "name": "python",
   "nbconvert_exporter": "python",
   "pygments_lexer": "ipython3",
   "version": "3.9.13"
  }
 },
 "nbformat": 4,
 "nbformat_minor": 5
}
