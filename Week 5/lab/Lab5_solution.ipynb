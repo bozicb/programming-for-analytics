{
 "cells": [
  {
   "cell_type": "markdown",
   "id": "2be867fd-f957-4b2a-9e58-7f2053713985",
   "metadata": {},
   "source": [
    "# Week 5 Lab – Solution File\n",
    "## Topics: File I/O, os & pathlib, error handling, JSON\n",
    "## Total marks: 6"
   ]
  },
  {
   "cell_type": "code",
   "execution_count": 14,
   "id": "f4c76bd0-a64f-483f-ac8f-2d6c1c5375ca",
   "metadata": {},
   "outputs": [],
   "source": [
    "import os\n",
    "from pathlib import Path\n",
    "import json\n",
    "import csv\n",
    "import requests"
   ]
  },
  {
   "cell_type": "markdown",
   "id": "00e0a405-1926-4d44-b483-69ff4ea9fd49",
   "metadata": {},
   "source": [
    " === TASK 1: Read the `grades.txt` file and parse each line into a dictionary with keys: name and grade. (1 mark)! ==="
   ]
  },
  {
   "cell_type": "code",
   "execution_count": 33,
   "id": "efe09e4d-77b1-43a2-b14d-9dacdba202c8",
   "metadata": {},
   "outputs": [
    {
     "name": "stdout",
     "output_type": "stream",
     "text": [
      "✅ Average grade: 75.30\n",
      "[{'name': 'Anomander Rake', 'grade': 92}, {'name': 'Quick Ben', 'grade': 88}, {'name': 'Whiskeyjack', 'grade': 75}, {'name': 'Karsa Orlong', 'grade': 61}, {'name': 'Tavore Paran', 'grade': 84}, {'name': 'Fiddler', 'grade': 79}, {'name': 'Apsalar', 'grade': 68}, {'name': 'Ganoes Paran', 'grade': 73}, {'name': 'Icarium', 'grade': 95}, {'name': 'Kalam Mekhar', 'grade': 82}, {'name': 'Trull Sengar', 'grade': 77}, {'name': 'Crokus Younghand', 'grade': 64}, {'name': \"Onos T'oolan\", 'grade': 89}, {'name': 'Toc the Younger', 'grade': 71}, {'name': 'Lorn', 'grade': 58}, {'name': \"T'lan Imass\", 'grade': 45}, {'name': 'Korlat', 'grade': 86}, {'name': 'Dujek Onearm', 'grade': 80}, {'name': 'Stormy', 'grade': 67}, {'name': 'Hedge', 'grade': 72}]\n"
     ]
    }
   ],
   "source": [
    "try:\n",
    "    file_path = Path(\"grades.txt\")\n",
    "\n",
    "    if not file_path.exists():\n",
    "        raise FileNotFoundError(\"grades.txt not found in current directory\")\n",
    "\n",
    "    students = []\n",
    "    with open(file_path, \"r\") as f:\n",
    "        for line in f:\n",
    "            name, grade = line.strip().split(\",\")\n",
    "            students.append({\"name\": name, \"grade\": int(grade)})\n",
    "\n",
    "    avg_grade = sum(s[\"grade\"] for s in students) / len(students)\n",
    "    print(f\"✅ Average grade: {avg_grade:.2f}\")\n",
    "    print(students)\n",
    "\n",
    "except FileNotFoundError as e:\n",
    "    print(\"❌ File not found:\", e)\n",
    "except ValueError:\n",
    "    print(\"❌ Data format error in grades.txt\")\n",
    "except Exception as e:\n",
    "    print(\"❌ Unexpected error:\", e)"
   ]
  },
  {
   "cell_type": "markdown",
   "id": "8b062108-bb37-4af5-a9ab-3dfee735c84d",
   "metadata": {},
   "source": [
    " === TASK 2: Use the `https://api.agify.io?name=FIRSTNAME` API to estimate the age of each student. (1 mark)! ==="
   ]
  },
  {
   "cell_type": "code",
   "execution_count": 23,
   "id": "1b1e7933-8952-450f-bc39-9a0cfda7fb99",
   "metadata": {},
   "outputs": [
    {
     "name": "stdout",
     "output_type": "stream",
     "text": [
      "{'error': 'Request limit reached'}\n"
     ]
    },
    {
     "ename": "KeyError",
     "evalue": "'age'",
     "output_type": "error",
     "traceback": [
      "\u001b[0;31m---------------------------------------------------------------------------\u001b[0m",
      "\u001b[0;31mKeyError\u001b[0m                                  Traceback (most recent call last)",
      "\u001b[0;32m/var/folders/b_/j0ltbnkn38x0sc9hrdbhdtfh0000gp/T/ipykernel_20117/3324624762.py\u001b[0m in \u001b[0;36m<module>\u001b[0;34m\u001b[0m\n\u001b[1;32m      5\u001b[0m         \u001b[0mresponse\u001b[0m \u001b[0;34m=\u001b[0m \u001b[0mrequests\u001b[0m\u001b[0;34m.\u001b[0m\u001b[0mget\u001b[0m\u001b[0;34m(\u001b[0m\u001b[0murl\u001b[0m\u001b[0;34m,\u001b[0m \u001b[0;34m{\u001b[0m\u001b[0;34m'name'\u001b[0m\u001b[0;34m:\u001b[0m \u001b[0mname\u001b[0m\u001b[0;34m}\u001b[0m\u001b[0;34m)\u001b[0m\u001b[0;34m\u001b[0m\u001b[0;34m\u001b[0m\u001b[0m\n\u001b[1;32m      6\u001b[0m         \u001b[0mprint\u001b[0m\u001b[0;34m(\u001b[0m\u001b[0mresponse\u001b[0m\u001b[0;34m.\u001b[0m\u001b[0mjson\u001b[0m\u001b[0;34m(\u001b[0m\u001b[0;34m)\u001b[0m\u001b[0;34m)\u001b[0m\u001b[0;34m\u001b[0m\u001b[0;34m\u001b[0m\u001b[0m\n\u001b[0;32m----> 7\u001b[0;31m         \u001b[0mstudent\u001b[0m\u001b[0;34m[\u001b[0m\u001b[0;34m'age'\u001b[0m\u001b[0;34m]\u001b[0m \u001b[0;34m=\u001b[0m \u001b[0mresponse\u001b[0m\u001b[0;34m.\u001b[0m\u001b[0mjson\u001b[0m\u001b[0;34m(\u001b[0m\u001b[0;34m)\u001b[0m\u001b[0;34m[\u001b[0m\u001b[0;34m'age'\u001b[0m\u001b[0;34m]\u001b[0m\u001b[0;34m\u001b[0m\u001b[0;34m\u001b[0m\u001b[0m\n\u001b[0m\u001b[1;32m      8\u001b[0m         \u001b[0;32mif\u001b[0m \u001b[0mstudent\u001b[0m\u001b[0;34m[\u001b[0m\u001b[0;34m'age'\u001b[0m\u001b[0;34m]\u001b[0m \u001b[0;34m!=\u001b[0m \u001b[0;32mNone\u001b[0m\u001b[0;34m:\u001b[0m\u001b[0;34m\u001b[0m\u001b[0;34m\u001b[0m\u001b[0m\n\u001b[1;32m      9\u001b[0m             \u001b[0mprint\u001b[0m\u001b[0;34m(\u001b[0m\u001b[0;34mf\"{name}'s age is {student['age']}.\"\u001b[0m\u001b[0;34m)\u001b[0m\u001b[0;34m\u001b[0m\u001b[0;34m\u001b[0m\u001b[0m\n",
      "\u001b[0;31mKeyError\u001b[0m: 'age'"
     ]
    }
   ],
   "source": [
    "url = \"https://api.agify.io\"\n",
    "try:\n",
    "    for student in students:\n",
    "        name = student['name'].split()[0]\n",
    "        response = requests.get(url, {'name': name})\n",
    "        student['age'] = response.json()['age']\n",
    "        if student['age'] != None:\n",
    "            print(f\"{name}'s age is {student['age']}.\")\n",
    "        else:\n",
    "            print(f\"No idea what {name}'s age is.\")\n",
    "except requests.exceptions.Timeout:\n",
    "    print(\"❌ The request timed out.\")\n",
    "except requests.exceptions.RequestException as e:\n",
    "    print(\"❌ Request failed:\", e)"
   ]
  },
  {
   "cell_type": "markdown",
   "id": "ddb219b3-3e2a-4533-9c88-4feec60c9f51",
   "metadata": {},
   "source": [
    "=== TASK 3: Calculate the average grade. For each student, add a new field: status = 'Over' if grade >= avg, else 'Under'. (1 mark)! ==="
   ]
  },
  {
   "cell_type": "code",
   "execution_count": 24,
   "id": "1c0b62e1-8719-45e0-9cf8-62ffa7fef902",
   "metadata": {},
   "outputs": [],
   "source": [
    "avg_grade = sum(s[\"grade\"] for s in students) / len(students)\n",
    "\n",
    "# Add over/under field\n",
    "for s in students:\n",
    "    s[\"status\"] = \"Over\" if s[\"grade\"] >= avg_grade else \"Under\""
   ]
  },
  {
   "cell_type": "markdown",
   "id": "7a164794-7199-4e6a-bdec-a3d35562d2d5",
   "metadata": {},
   "source": [
    " === TASK 4: Save all students with ages and statuses into a JSON file called `students_enriched.json`. (1 mark) ==="
   ]
  },
  {
   "cell_type": "code",
   "execution_count": 25,
   "id": "3c69f159-6ac8-4ee6-81cf-3935a58468be",
   "metadata": {},
   "outputs": [
    {
     "name": "stdout",
     "output_type": "stream",
     "text": [
      "✅ Data saved to students.json\n"
     ]
    }
   ],
   "source": [
    "try:\n",
    "    json_path = Path(\"students.json\")\n",
    "    with open(json_path, \"w\") as f:\n",
    "        json.dump(students, f, indent=4)\n",
    "    print(f\"✅ Data saved to {json_path}\")\n",
    "except Exception as e:\n",
    "    print(\"❌ Could not write JSON file:\", e)"
   ]
  },
  {
   "cell_type": "markdown",
   "id": "6a58e105-6351-4268-a918-32643d12d376",
   "metadata": {},
   "source": [
    "=== TASK 5: Write a CSV file called `over_students.csv` with only students who are over the average. Include name, grade, and age. (1 mark) ==="
   ]
  },
  {
   "cell_type": "code",
   "execution_count": 32,
   "id": "3e22d2f0-6752-4540-813a-17354fa21a83",
   "metadata": {},
   "outputs": [
    {
     "name": "stdout",
     "output_type": "stream",
     "text": [
      "✅ Over students CSV created successfully.\n"
     ]
    }
   ],
   "source": [
    "csv_output = Path(\"over_students.csv\")\n",
    "\n",
    "try:\n",
    "    with open(csv_output, \"w\", newline='') as outfile:\n",
    "        fieldnames = [\"name\", \"grade\", \"age\"]\n",
    "        writer = csv.DictWriter(outfile, fieldnames=fieldnames)\n",
    "        writer.writeheader()\n",
    "        for student in students:\n",
    "            if student['status'] == 'Over':\n",
    "                writer.writerow({key: student[key] for key in student.keys() if key in ['name', 'grade', 'age']})\n",
    "    print(\"✅ Over students CSV created successfully.\")\n",
    "except FileNotFoundError:\n",
    "    print(\"❌ grades.csv file missing.\")\n",
    "except Exception as e:\n",
    "    print(\"❌ Error processing CSV:\", e)"
   ]
  },
  {
   "cell_type": "markdown",
   "id": "e8ef8422-83e4-4189-8172-e1c30d089c00",
   "metadata": {},
   "source": [
    "=== TASK 6: Wrap all file and API operations in try/except blocks to handle missing files or API failures. (1 mark) ==="
   ]
  }
 ],
 "metadata": {
  "kernelspec": {
   "display_name": "Python 3 (ipykernel)",
   "language": "python",
   "name": "python3"
  },
  "language_info": {
   "codemirror_mode": {
    "name": "ipython",
    "version": 3
   },
   "file_extension": ".py",
   "mimetype": "text/x-python",
   "name": "python",
   "nbconvert_exporter": "python",
   "pygments_lexer": "ipython3",
   "version": "3.9.13"
  }
 },
 "nbformat": 4,
 "nbformat_minor": 5
}
