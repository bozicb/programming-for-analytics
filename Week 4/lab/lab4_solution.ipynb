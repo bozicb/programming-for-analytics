{
 "cells": [
  {
   "cell_type": "markdown",
   "id": "7adc4b0b",
   "metadata": {},
   "source": [
    "# Lab 4 Solution: Student Grades File Processor"
   ]
  },
  {
   "cell_type": "code",
   "execution_count": 1,
   "id": "58e42b22",
   "metadata": {},
   "outputs": [
    {
     "data": {
      "text/plain": [
       "[{'name': 'Ganoes Paran', 'grade': 85},\n",
       " {'name': 'Tavore Paran', 'grade': 92},\n",
       " {'name': 'Fiddler', 'grade': 76},\n",
       " {'name': 'Quick Ben', 'grade': 95},\n",
       " {'name': 'Anomander Rake', 'grade': 100},\n",
       " {'name': 'Whiskeyjack', 'grade': 88},\n",
       " {'name': 'Kalam Mekhar', 'grade': 81},\n",
       " {'name': 'Adjunct Lorn', 'grade': 73},\n",
       " {'name': 'Icarium', 'grade': 90},\n",
       " {'name': 'Crokus Younghand', 'grade': 67}]"
      ]
     },
     "execution_count": 1,
     "metadata": {},
     "output_type": "execute_result"
    }
   ],
   "source": [
    "\n",
    "import os\n",
    "import json\n",
    "\n",
    "# Step 1: Read the 'grades.txt' file and parse each line into a dictionary\n",
    "file_path = \"grades.txt\"\n",
    "\n",
    "students = []\n",
    "\n",
    "try:\n",
    "    with open(file_path, \"r\") as f:\n",
    "        for line in f:\n",
    "            name, grade = line.strip().split(\",\")\n",
    "            students.append({\n",
    "                \"name\": name.strip(),\n",
    "                \"grade\": int(grade.strip())\n",
    "            })\n",
    "except FileNotFoundError:\n",
    "    print(f\"Error: File '{file_path}' not found.\")\n",
    "except Exception as e:\n",
    "    print(f\"An error occurred: {e}\")\n",
    "\n",
    "students\n"
   ]
  },
  {
   "cell_type": "code",
   "execution_count": 2,
   "id": "ba92593b",
   "metadata": {},
   "outputs": [
    {
     "name": "stdout",
     "output_type": "stream",
     "text": [
      "Average grade: 84.70\n"
     ]
    }
   ],
   "source": [
    "\n",
    "# Step 2: Calculate and print the average grade\n",
    "if students:\n",
    "    total = sum(student[\"grade\"] for student in students)\n",
    "    average = total / len(students)\n",
    "    print(f\"Average grade: {average:.2f}\")\n",
    "else:\n",
    "    average = 0\n"
   ]
  },
  {
   "cell_type": "code",
   "execution_count": 3,
   "id": "becda40e",
   "metadata": {},
   "outputs": [
    {
     "name": "stdout",
     "output_type": "stream",
     "text": [
      "above_average.csv created\n"
     ]
    }
   ],
   "source": [
    "\n",
    "# Step 3: Save above average students to 'above_average.csv'\n",
    "import csv\n",
    "\n",
    "above_average_students = [s for s in students if s[\"grade\"] > average]\n",
    "\n",
    "with open(\"above_average.csv\", \"w\", newline=\"\") as f:\n",
    "    writer = csv.DictWriter(f, fieldnames=[\"name\", \"grade\"])\n",
    "    writer.writeheader()\n",
    "    writer.writerows(above_average_students)\n",
    "\n",
    "print(\"above_average.csv created\")\n"
   ]
  },
  {
   "cell_type": "code",
   "execution_count": 4,
   "id": "a0857c64",
   "metadata": {},
   "outputs": [
    {
     "name": "stdout",
     "output_type": "stream",
     "text": [
      "students.json created\n"
     ]
    }
   ],
   "source": [
    "\n",
    "# Step 4: Save all student data in a JSON file\n",
    "with open(\"students.json\", \"w\") as f:\n",
    "    json.dump(students, f, indent=4)\n",
    "\n",
    "print(\"students.json created\")\n"
   ]
  },
  {
   "cell_type": "code",
   "execution_count": null,
   "id": "22ec5e12",
   "metadata": {},
   "outputs": [],
   "source": [
    "\n",
    "# Step 5: Bonus - wrap file I/O in try/except for error handling (already done above)\n",
    "# Could include additional safety checks or logging if desired\n"
   ]
  }
 ],
 "metadata": {
  "kernelspec": {
   "display_name": "Python 3 (ipykernel)",
   "language": "python",
   "name": "python3"
  },
  "language_info": {
   "codemirror_mode": {
    "name": "ipython",
    "version": 3
   },
   "file_extension": ".py",
   "mimetype": "text/x-python",
   "name": "python",
   "nbconvert_exporter": "python",
   "pygments_lexer": "ipython3",
   "version": "3.9.13"
  }
 },
 "nbformat": 4,
 "nbformat_minor": 5
}
