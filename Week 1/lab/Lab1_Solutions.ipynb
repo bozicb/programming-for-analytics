{
 "cells": [
  {
   "cell_type": "markdown",
   "id": "6f99c3e1",
   "metadata": {},
   "source": [
    "# AYTS 5001 - Lab 1 Solution\n",
    "**Getting Started with Python**\n",
    "\n",
    "This notebook provides example solutions for Lab 1 tasks."
   ]
  },
  {
   "cell_type": "markdown",
   "id": "a99103ad",
   "metadata": {},
   "source": [
    "## 1. Environment Setup\n",
    "Run the following cell to confirm your environment works:"
   ]
  },
  {
   "cell_type": "code",
   "execution_count": 1,
   "id": "580066e5",
   "metadata": {},
   "outputs": [
    {
     "name": "stdout",
     "output_type": "stream",
     "text": [
      "Hello, world!\n"
     ]
    }
   ],
   "source": [
    "print(\"Hello, world!\")"
   ]
  },
  {
   "cell_type": "markdown",
   "id": "cf666b7a",
   "metadata": {},
   "source": [
    "## 2. Variables and Data Types"
   ]
  },
  {
   "cell_type": "code",
   "execution_count": 2,
   "id": "216fba73",
   "metadata": {},
   "outputs": [
    {
     "name": "stdout",
     "output_type": "stream",
     "text": [
      "Alice <class 'str'>\n",
      "25 <class 'int'>\n",
      "1.68 <class 'float'>\n",
      "True <class 'bool'>\n",
      "Age as string: 25\n"
     ]
    }
   ],
   "source": [
    "name = \"Alice\"\n",
    "age = 25\n",
    "height = 1.68\n",
    "is_student = True\n",
    "\n",
    "print(name, type(name))\n",
    "print(age, type(age))\n",
    "print(height, type(height))\n",
    "print(is_student, type(is_student))\n",
    "\n",
    "print(\"Age as string: \" + str(age))"
   ]
  },
  {
   "cell_type": "markdown",
   "id": "ce28ba18",
   "metadata": {},
   "source": [
    "## 3. Input and Output (Simulated Input)"
   ]
  },
  {
   "cell_type": "code",
   "execution_count": 3,
   "id": "e240b318",
   "metadata": {},
   "outputs": [
    {
     "name": "stdout",
     "output_type": "stream",
     "text": [
      "Hi Bob, you are 30 years old.\n"
     ]
    }
   ],
   "source": [
    "# Simulated input\n",
    "name = \"Bob\"\n",
    "age = 30\n",
    "\n",
    "print(f\"Hi {name}, you are {age} years old.\")"
   ]
  },
  {
   "cell_type": "markdown",
   "id": "785afe4d",
   "metadata": {},
   "source": [
    "## 4. Expressions and Calculations"
   ]
  },
  {
   "cell_type": "code",
   "execution_count": 4,
   "id": "02eb03f6",
   "metadata": {},
   "outputs": [
    {
     "name": "stdout",
     "output_type": "stream",
     "text": [
      "Area: 15, Perimeter: 16\n"
     ]
    }
   ],
   "source": [
    "# Simulated input\n",
    "width = 5\n",
    "height = 3\n",
    "area = width * height\n",
    "perimeter = 2 * (width + height)\n",
    "\n",
    "print(f\"Area: {area}, Perimeter: {perimeter}\")"
   ]
  },
  {
   "cell_type": "markdown",
   "id": "a5d59aef",
   "metadata": {},
   "source": [
    "## 5. Git Basics\n",
    "Basic Git commands to use in terminal:\n",
    "\n",
    "```\n",
    "git init\n",
    "git add .\n",
    "git commit -m \"Initial commit\"\n",
    "git remote add origin <your_repo_url>\n",
    "git push -u origin main\n",
    "```"
   ]
  },
  {
   "cell_type": "markdown",
   "id": "05a99e04",
   "metadata": {},
   "source": [
    "## 6. Optional Challenge: BMI Calculator"
   ]
  },
  {
   "cell_type": "code",
   "execution_count": 7,
   "id": "9036e5af",
   "metadata": {},
   "outputs": [
    {
     "name": "stdout",
     "output_type": "stream",
     "text": [
      "Your BMI is 25.8\n"
     ]
    }
   ],
   "source": [
    "# Simulated input\n",
    "weight = 92  # in kg\n",
    "height = 1.89  # in meters\n",
    "bmi = weight / (height ** 2)\n",
    "print(f\"Your BMI is {bmi:.1f}\")"
   ]
  },
  {
   "cell_type": "code",
   "execution_count": null,
   "id": "c77ad218-c5d3-41d7-a38d-5883bdd79c9b",
   "metadata": {},
   "outputs": [],
   "source": []
  }
 ],
 "metadata": {
  "kernelspec": {
   "display_name": "Python 3 (ipykernel)",
   "language": "python",
   "name": "python3"
  },
  "language_info": {
   "codemirror_mode": {
    "name": "ipython",
    "version": 3
   },
   "file_extension": ".py",
   "mimetype": "text/x-python",
   "name": "python",
   "nbconvert_exporter": "python",
   "pygments_lexer": "ipython3",
   "version": "3.9.13"
  }
 },
 "nbformat": 4,
 "nbformat_minor": 5
}
